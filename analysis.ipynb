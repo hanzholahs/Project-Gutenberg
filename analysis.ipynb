{
 "cells": [
  {
   "cell_type": "code",
   "execution_count": 2,
   "metadata": {},
   "outputs": [],
   "source": [
    "import re\n",
    "import ast\n",
    "import pandas as pd\n",
    "import numpy as np\n",
    "import seaborn as sns\n",
    "import matplotlib.pyplot as plt\n",
    "from IPython.display import display, HTML\n",
    "\n",
    "sns.set_style()"
   ]
  },
  {
   "cell_type": "markdown",
   "metadata": {},
   "source": [
    "# Prepare Project Gutenberg Metadata Dataset"
   ]
  },
  {
   "cell_type": "markdown",
   "metadata": {},
   "source": [
    "## Download RDF/XML and Extract to CSV"
   ]
  },
  {
   "cell_type": "code",
   "execution_count": 3,
   "metadata": {},
   "outputs": [],
   "source": [
    "# from metadata import *\n",
    "# folder_path = \"./data/\"\n",
    "\n",
    "# download_metadata_tar(folder_path)\n",
    "# extract_metadata_tar(folder_path)\n",
    "# metadata_to_csv(folder_path)"
   ]
  },
  {
   "cell_type": "markdown",
   "metadata": {},
   "source": [
    "## Working with Smaller Subset"
   ]
  },
  {
   "cell_type": "code",
   "execution_count": 4,
   "metadata": {},
   "outputs": [],
   "source": [
    "# books = pd.read_csv(\"./data/metadata.csv\")\n",
    "# books.drop(columns=[\"ebook\", \"publisher\", \"license\", \"rights\", \"available_formats\"], inplace=True)\n",
    "# books.to_csv(\"./data/metadata-smaller.csv\", index=False)"
   ]
  },
  {
   "cell_type": "markdown",
   "metadata": {},
   "source": [
    "## Import the Smaller Dataset"
   ]
  },
  {
   "cell_type": "code",
   "execution_count": 5,
   "metadata": {},
   "outputs": [],
   "source": [
    "books = pd.read_csv(\"./data/metadata-smaller.csv\", index_col=\"book_id\")\n",
    "books = books.rename(columns={\"language\": \"lang_code\", \"creator_names\": \"authors\"})\n",
    "books = books.sort_index()"
   ]
  },
  {
   "cell_type": "code",
   "execution_count": 6,
   "metadata": {},
   "outputs": [],
   "source": [
    "books[\"issued\"] = pd.to_datetime(books[\"issued\"])"
   ]
  },
  {
   "cell_type": "code",
   "execution_count": 7,
   "metadata": {},
   "outputs": [],
   "source": [
    "books[\"authors\"] = books[\"authors\"].apply(lambda x: [author for author in ast.literal_eval(x) if author != \"None\"])\n",
    "books[\"authors\"] = books[\"authors\"].apply(lambda x: \"; \".join(x))"
   ]
  },
  {
   "cell_type": "code",
   "execution_count": 8,
   "metadata": {},
   "outputs": [],
   "source": [
    "books[\"bookshelves\"] = books[\"bookshelves\"].apply(lambda x: [cat for cat in ast.literal_eval(x) if cat != \"None\"])\n",
    "books[\"bookshelves\"] = books[\"bookshelves\"].apply(lambda x: \"; \".join(x))"
   ]
  },
  {
   "cell_type": "code",
   "execution_count": 9,
   "metadata": {},
   "outputs": [
    {
     "data": {
      "text/html": [
       "<div>\n",
       "<style scoped>\n",
       "    .dataframe tbody tr th:only-of-type {\n",
       "        vertical-align: middle;\n",
       "    }\n",
       "\n",
       "    .dataframe tbody tr th {\n",
       "        vertical-align: top;\n",
       "    }\n",
       "\n",
       "    .dataframe thead th {\n",
       "        text-align: right;\n",
       "    }\n",
       "</style>\n",
       "<table border=\"1\" class=\"dataframe\">\n",
       "  <thead>\n",
       "    <tr style=\"text-align: right;\">\n",
       "      <th></th>\n",
       "      <th>type</th>\n",
       "      <th>issued</th>\n",
       "      <th>downloads</th>\n",
       "      <th>title</th>\n",
       "      <th>lang_code</th>\n",
       "      <th>authors</th>\n",
       "      <th>bookshelves</th>\n",
       "    </tr>\n",
       "    <tr>\n",
       "      <th>book_id</th>\n",
       "      <th></th>\n",
       "      <th></th>\n",
       "      <th></th>\n",
       "      <th></th>\n",
       "      <th></th>\n",
       "      <th></th>\n",
       "      <th></th>\n",
       "    </tr>\n",
       "  </thead>\n",
       "  <tbody>\n",
       "    <tr>\n",
       "      <th>1</th>\n",
       "      <td>Text</td>\n",
       "      <td>1971-12-01</td>\n",
       "      <td>2915</td>\n",
       "      <td>The Declaration of Independence of the United ...</td>\n",
       "      <td>en</td>\n",
       "      <td>Jefferson, Thomas</td>\n",
       "      <td>Politics; American Revolutionary War; United S...</td>\n",
       "    </tr>\n",
       "    <tr>\n",
       "      <th>2</th>\n",
       "      <td>Text</td>\n",
       "      <td>1972-12-01</td>\n",
       "      <td>4313</td>\n",
       "      <td>The United States Bill of Rights\\r\\nThe Ten Or...</td>\n",
       "      <td>en</td>\n",
       "      <td>United States</td>\n",
       "      <td>Politics; American Revolutionary War; United S...</td>\n",
       "    </tr>\n",
       "    <tr>\n",
       "      <th>3</th>\n",
       "      <td>Text</td>\n",
       "      <td>1973-11-01</td>\n",
       "      <td>1258</td>\n",
       "      <td>John F. Kennedy's Inaugural Address</td>\n",
       "      <td>en</td>\n",
       "      <td>Kennedy, John F. (John Fitzgerald)</td>\n",
       "      <td></td>\n",
       "    </tr>\n",
       "    <tr>\n",
       "      <th>4</th>\n",
       "      <td>Text</td>\n",
       "      <td>1973-11-01</td>\n",
       "      <td>1510</td>\n",
       "      <td>Lincoln's Gettysburg Address\\r\\nGiven November...</td>\n",
       "      <td>en</td>\n",
       "      <td>Lincoln, Abraham</td>\n",
       "      <td>US Civil War</td>\n",
       "    </tr>\n",
       "    <tr>\n",
       "      <th>5</th>\n",
       "      <td>Text</td>\n",
       "      <td>1975-12-01</td>\n",
       "      <td>1019</td>\n",
       "      <td>The United States Constitution</td>\n",
       "      <td>en</td>\n",
       "      <td>United States</td>\n",
       "      <td>United States; Politics; American Revolutionar...</td>\n",
       "    </tr>\n",
       "  </tbody>\n",
       "</table>\n",
       "</div>"
      ],
      "text/plain": [
       "         type     issued  downloads  \\\n",
       "book_id                               \n",
       "1        Text 1971-12-01       2915   \n",
       "2        Text 1972-12-01       4313   \n",
       "3        Text 1973-11-01       1258   \n",
       "4        Text 1973-11-01       1510   \n",
       "5        Text 1975-12-01       1019   \n",
       "\n",
       "                                                     title lang_code  \\\n",
       "book_id                                                                \n",
       "1        The Declaration of Independence of the United ...        en   \n",
       "2        The United States Bill of Rights\\r\\nThe Ten Or...        en   \n",
       "3                      John F. Kennedy's Inaugural Address        en   \n",
       "4        Lincoln's Gettysburg Address\\r\\nGiven November...        en   \n",
       "5                           The United States Constitution        en   \n",
       "\n",
       "                                    authors  \\\n",
       "book_id                                       \n",
       "1                         Jefferson, Thomas   \n",
       "2                             United States   \n",
       "3        Kennedy, John F. (John Fitzgerald)   \n",
       "4                          Lincoln, Abraham   \n",
       "5                             United States   \n",
       "\n",
       "                                               bookshelves  \n",
       "book_id                                                     \n",
       "1        Politics; American Revolutionary War; United S...  \n",
       "2        Politics; American Revolutionary War; United S...  \n",
       "3                                                           \n",
       "4                                             US Civil War  \n",
       "5        United States; Politics; American Revolutionar...  "
      ]
     },
     "execution_count": 9,
     "metadata": {},
     "output_type": "execute_result"
    }
   ],
   "source": [
    "books.head()"
   ]
  },
  {
   "cell_type": "markdown",
   "metadata": {},
   "source": [
    "# Exploratory Analysis"
   ]
  },
  {
   "cell_type": "markdown",
   "metadata": {},
   "source": [
    "## Book Authors"
   ]
  },
  {
   "cell_type": "code",
   "execution_count": 10,
   "metadata": {},
   "outputs": [
    {
     "data": {
      "text/plain": [
       "3"
      ]
     },
     "execution_count": 10,
     "metadata": {},
     "output_type": "execute_result"
    }
   ],
   "source": [
    "len(re.findall(\";\", books[\"bookshelves\"][1])) + 1"
   ]
  },
  {
   "cell_type": "code",
   "execution_count": 11,
   "metadata": {},
   "outputs": [],
   "source": [
    "author_counts = books[\"authors\"].apply(lambda authors: 0 if len(authors) == 0 else len(re.findall(\";\", authors)) + 1)"
   ]
  },
  {
   "cell_type": "code",
   "execution_count": 12,
   "metadata": {},
   "outputs": [
    {
     "data": {
      "text/plain": [
       "2677"
      ]
     },
     "execution_count": 12,
     "metadata": {},
     "output_type": "execute_result"
    }
   ],
   "source": [
    "# book without author data\n",
    "np.sum(author_counts == 0)"
   ]
  },
  {
   "cell_type": "code",
   "execution_count": 13,
   "metadata": {},
   "outputs": [
    {
     "data": {
      "text/plain": [
       "1.047377835014667"
      ]
     },
     "execution_count": 13,
     "metadata": {},
     "output_type": "execute_result"
    }
   ],
   "source": [
    "# average number of author, excluding no author data\n",
    "author_counts[author_counts != 0].mean()"
   ]
  },
  {
   "cell_type": "code",
   "execution_count": 14,
   "metadata": {},
   "outputs": [
    {
     "data": {
      "text/plain": [
       "0      2677\n",
       "1     67375\n",
       "2      2115\n",
       "3       231\n",
       "4        83\n",
       "5        39\n",
       "6        16\n",
       "7         5\n",
       "8         7\n",
       "9         2\n",
       "10        3\n",
       "11        1\n",
       "12        1\n",
       "13        4\n",
       "14        1\n",
       "23        1\n",
       "24        1\n",
       "Name: authors, dtype: int64"
      ]
     },
     "execution_count": 14,
     "metadata": {},
     "output_type": "execute_result"
    }
   ],
   "source": [
    "author_counts.value_counts().sort_index()"
   ]
  },
  {
   "cell_type": "code",
   "execution_count": 15,
   "metadata": {},
   "outputs": [
    {
     "data": {
      "text/html": [
       "<table border=\"1\" class=\"dataframe\">\n",
       "  <thead>\n",
       "    <tr style=\"text-align: right;\">\n",
       "      <th></th>\n",
       "      <th>title</th>\n",
       "      <th>authors</th>\n",
       "    </tr>\n",
       "  </thead>\n",
       "  <tbody>\n",
       "    <tr>\n",
       "      <th>0</th>\n",
       "      <td>Atlantic Narratives: Modern Short Stories; Second Series</td>\n",
       "      <td>24</td>\n",
       "    </tr>\n",
       "    <tr>\n",
       "      <th>1</th>\n",
       "      <td>Atlantic Narratives: Modern Short Stories</td>\n",
       "      <td>23</td>\n",
       "    </tr>\n",
       "    <tr>\n",
       "      <th>2</th>\n",
       "      <td>Special Report on Diseases of Cattle</td>\n",
       "      <td>14</td>\n",
       "    </tr>\n",
       "    <tr>\n",
       "      <th>3</th>\n",
       "      <td>Modern Poets and Poetry of Spain</td>\n",
       "      <td>13</td>\n",
       "    </tr>\n",
       "    <tr>\n",
       "      <th>4</th>\n",
       "      <td>La voz de la conseja, t.1 Selección de las mejores novelas breves y cuentos de los más esclarecidos literatos</td>\n",
       "      <td>13</td>\n",
       "    </tr>\n",
       "    <tr>\n",
       "      <th>5</th>\n",
       "      <td>La voz de la conseja, t.2 Selección de las mejores novelas breves y cuentos de los más esclarecidos literatos</td>\n",
       "      <td>13</td>\n",
       "    </tr>\n",
       "    <tr>\n",
       "      <th>6</th>\n",
       "      <td>Argentina, Legend and History</td>\n",
       "      <td>13</td>\n",
       "    </tr>\n",
       "    <tr>\n",
       "      <th>7</th>\n",
       "      <td>The Whole Family: a Novel by Twelve Authors</td>\n",
       "      <td>12</td>\n",
       "    </tr>\n",
       "    <tr>\n",
       "      <th>8</th>\n",
       "      <td>Eleven Possible Cases</td>\n",
       "      <td>11</td>\n",
       "    </tr>\n",
       "    <tr>\n",
       "      <th>9</th>\n",
       "      <td>Väriä ja viivoja: Werner von Heidenstamin, Oscar Levertinin y.m. novelleja</td>\n",
       "      <td>10</td>\n",
       "    </tr>\n",
       "    <tr>\n",
       "      <th>10</th>\n",
       "      <td>Dix contes modernes des meilleurs auteurs du jour</td>\n",
       "      <td>10</td>\n",
       "    </tr>\n",
       "    <tr>\n",
       "      <th>11</th>\n",
       "      <td>Christianity and Modern Thought</td>\n",
       "      <td>10</td>\n",
       "    </tr>\n",
       "    <tr>\n",
       "      <th>12</th>\n",
       "      <td>Women Novelists of Queen Victoria's Reign: A Book of Appreciations</td>\n",
       "      <td>9</td>\n",
       "    </tr>\n",
       "    <tr>\n",
       "      <th>13</th>\n",
       "      <td>The golden story book</td>\n",
       "      <td>9</td>\n",
       "    </tr>\n",
       "    <tr>\n",
       "      <th>14</th>\n",
       "      <td>Creative Intelligence: Essays in the Pragmatic Attitude</td>\n",
       "      <td>8</td>\n",
       "    </tr>\n",
       "  </tbody>\n",
       "</table>"
      ],
      "text/plain": [
       "<IPython.core.display.HTML object>"
      ]
     },
     "metadata": {},
     "output_type": "display_data"
    }
   ],
   "source": [
    "top_title_author_counts = pd.concat([books[\"title\"], author_counts], axis=1) \\\n",
    "    .sort_values(\"authors\", ascending=False) \\\n",
    "    .head(15) \\\n",
    "    .reset_index(drop=True)\n",
    "    \n",
    "top_title_author_counts[\"title\"] = top_title_author_counts[\"title\"].apply(lambda x: re.sub(\"(\\r|\\n)+\", \" \", x))\n",
    "\n",
    "# display as HTML to prevent data trunctation\n",
    "display(HTML(top_title_author_counts.to_html()))"
   ]
  },
  {
   "cell_type": "markdown",
   "metadata": {},
   "source": [
    "## Bookshelves Categories"
   ]
  },
  {
   "cell_type": "code",
   "execution_count": 16,
   "metadata": {},
   "outputs": [],
   "source": [
    "bookshelf_cat_counts = books[\"bookshelves\"].apply(lambda bookshelves: 0 if len(bookshelves) == 0 else len(re.findall(\";\", bookshelves)) + 1)"
   ]
  },
  {
   "cell_type": "code",
   "execution_count": 17,
   "metadata": {},
   "outputs": [
    {
     "data": {
      "text/plain": [
       "55394"
      ]
     },
     "execution_count": 17,
     "metadata": {},
     "output_type": "execute_result"
    }
   ],
   "source": [
    "# no bookshelve category data\n",
    "np.sum(bookshelf_cat_counts == 0)"
   ]
  },
  {
   "cell_type": "code",
   "execution_count": 18,
   "metadata": {},
   "outputs": [
    {
     "data": {
      "text/plain": [
       "1.1742194780987885"
      ]
     },
     "execution_count": 18,
     "metadata": {},
     "output_type": "execute_result"
    }
   ],
   "source": [
    "bookshelf_cat_counts[bookshelf_cat_counts != 0].mean()"
   ]
  },
  {
   "cell_type": "code",
   "execution_count": 19,
   "metadata": {},
   "outputs": [
    {
     "data": {
      "text/plain": [
       "book_id\n",
       "1        Politics; American Revolutionary War; United S...\n",
       "2        Politics; American Revolutionary War; United S...\n",
       "3                                                         \n",
       "4                                             US Civil War\n",
       "5        United States; Politics; American Revolutionar...\n",
       "                               ...                        \n",
       "72638                                                     \n",
       "72639                                                     \n",
       "72640                                                     \n",
       "72641                                                     \n",
       "90907                                                     \n",
       "Name: bookshelves, Length: 72562, dtype: object"
      ]
     },
     "execution_count": 19,
     "metadata": {},
     "output_type": "execute_result"
    }
   ],
   "source": [
    "books[\"bookshelves\"]"
   ]
  },
  {
   "cell_type": "code",
   "execution_count": 20,
   "metadata": {},
   "outputs": [
    {
     "name": "stdout",
     "output_type": "stream",
     "text": [
      "There are 338 bookshelf categories.\n"
     ]
    }
   ],
   "source": [
    "bookshelf_categories = []\n",
    "\n",
    "for book_categories in books[\"bookshelves\"]:\n",
    "    for category in book_categories.split(\";\"):\n",
    "        category = category.strip()\n",
    "        if category not in bookshelf_categories and category != \"None\" and category != \"\":\n",
    "            bookshelf_categories.append(category)\n",
    "\n",
    "print(f\"There are {len(bookshelf_categories)} bookshelf categories.\")"
   ]
  },
  {
   "cell_type": "code",
   "execution_count": 21,
   "metadata": {},
   "outputs": [
    {
     "ename": "AttributeError",
     "evalue": "'numpy.int64' object has no attribute 'sort_values'",
     "output_type": "error",
     "traceback": [
      "\u001b[1;31m---------------------------------------------------------------------------\u001b[0m",
      "\u001b[1;31mAttributeError\u001b[0m                            Traceback (most recent call last)",
      "Cell \u001b[1;32mIn[21], line 8\u001b[0m\n\u001b[0;32m      5\u001b[0m \u001b[38;5;28;01mfor\u001b[39;00m category \u001b[38;5;129;01min\u001b[39;00m bookshelf_categories:\n\u001b[0;32m      6\u001b[0m     category_df[category] \u001b[38;5;241m=\u001b[39m books[\u001b[38;5;124m\"\u001b[39m\u001b[38;5;124mbookshelves\u001b[39m\u001b[38;5;124m\"\u001b[39m]\u001b[38;5;241m.\u001b[39mapply(\u001b[38;5;28;01mlambda\u001b[39;00m bookshelves: category \u001b[38;5;129;01min\u001b[39;00m bookshelves)\n\u001b[1;32m----> 8\u001b[0m category_counts \u001b[38;5;241m=\u001b[39m \u001b[43mbookshelf_cat_counts\u001b[49m\u001b[38;5;241;43m.\u001b[39;49m\u001b[43msum\u001b[49m\u001b[43m(\u001b[49m\u001b[43maxis\u001b[49m\u001b[38;5;241;43m=\u001b[39;49m\u001b[38;5;241;43m0\u001b[39;49m\u001b[43m)\u001b[49m\u001b[38;5;241;43m.\u001b[39;49m\u001b[43msort_values\u001b[49m(ascending\u001b[38;5;241m=\u001b[39m\u001b[38;5;28;01mFalse\u001b[39;00m)\u001b[38;5;241m.\u001b[39mhead(\u001b[38;5;241m20\u001b[39m)\n\u001b[0;32m     10\u001b[0m sns\u001b[38;5;241m.\u001b[39mbarplot(y\u001b[38;5;241m=\u001b[39mcategory_counts\u001b[38;5;241m.\u001b[39mindex, x\u001b[38;5;241m=\u001b[39mcategory_counts\u001b[38;5;241m.\u001b[39mvalues)\n\u001b[0;32m     11\u001b[0m plt\u001b[38;5;241m.\u001b[39mtitle(\u001b[38;5;124m\"\u001b[39m\u001b[38;5;124mTop 20 Bookshelf Categories\u001b[39m\u001b[38;5;124m\"\u001b[39m)\n",
      "\u001b[1;31mAttributeError\u001b[0m: 'numpy.int64' object has no attribute 'sort_values'"
     ]
    }
   ],
   "source": [
    "category_df = pd.DataFrame(np.zeros((books.shape[0], len(bookshelf_categories)), dtype=bool),\n",
    "                           columns = bookshelf_categories,\n",
    "                           index = books.index)\n",
    "\n",
    "for category in bookshelf_categories:\n",
    "    category_df[category] = books[\"bookshelves\"].apply(lambda bookshelves: category in bookshelves)\n",
    "\n",
    "category_counts = bookshelf_cat_counts.sum(axis=0).sort_values(ascending=False).head(20)\n",
    "\n",
    "sns.barplot(y=category_counts.index, x=category_counts.values)\n",
    "plt.title(\"Top 20 Bookshelf Categories\")\n",
    "plt.show()"
   ]
  },
  {
   "cell_type": "code",
   "execution_count": null,
   "metadata": {},
   "outputs": [
    {
     "ename": "NameError",
     "evalue": "name 'category_df' is not defined",
     "output_type": "error",
     "traceback": [
      "\u001b[1;31m---------------------------------------------------------------------------\u001b[0m",
      "\u001b[1;31mNameError\u001b[0m                                 Traceback (most recent call last)",
      "Cell \u001b[1;32mIn[20], line 1\u001b[0m\n\u001b[1;32m----> 1\u001b[0m top_title_category_count \u001b[38;5;241m=\u001b[39m pd\u001b[38;5;241m.\u001b[39mconcat([books[\u001b[38;5;124m\"\u001b[39m\u001b[38;5;124mtitle\u001b[39m\u001b[38;5;124m\"\u001b[39m], \u001b[43mcategory_df\u001b[49m\u001b[38;5;241m.\u001b[39msum(axis\u001b[38;5;241m=\u001b[39m\u001b[38;5;241m1\u001b[39m)], axis\u001b[38;5;241m=\u001b[39m\u001b[38;5;241m1\u001b[39m) \\\n\u001b[0;32m      2\u001b[0m     \u001b[38;5;241m.\u001b[39mrename(columns\u001b[38;5;241m=\u001b[39m{\u001b[38;5;241m0\u001b[39m:\u001b[38;5;124m\"\u001b[39m\u001b[38;5;124mn_category\u001b[39m\u001b[38;5;124m\"\u001b[39m}) \\\n\u001b[0;32m      3\u001b[0m     \u001b[38;5;241m.\u001b[39msort_values(\u001b[38;5;124m\"\u001b[39m\u001b[38;5;124mn_category\u001b[39m\u001b[38;5;124m\"\u001b[39m, ascending\u001b[38;5;241m=\u001b[39m\u001b[38;5;28;01mFalse\u001b[39;00m) \\\n\u001b[0;32m      4\u001b[0m     \u001b[38;5;241m.\u001b[39mhead(\u001b[38;5;241m15\u001b[39m) \\\n\u001b[0;32m      5\u001b[0m     \u001b[38;5;241m.\u001b[39mreset_index(drop\u001b[38;5;241m=\u001b[39m\u001b[38;5;28;01mTrue\u001b[39;00m)\n\u001b[0;32m      7\u001b[0m top_title_category_count[\u001b[38;5;124m\"\u001b[39m\u001b[38;5;124mtitle\u001b[39m\u001b[38;5;124m\"\u001b[39m] \u001b[38;5;241m=\u001b[39m top_title_category_count[\u001b[38;5;124m\"\u001b[39m\u001b[38;5;124mtitle\u001b[39m\u001b[38;5;124m\"\u001b[39m]\u001b[38;5;241m.\u001b[39mapply(\u001b[38;5;28;01mlambda\u001b[39;00m x: re\u001b[38;5;241m.\u001b[39msub(\u001b[38;5;124m\"\u001b[39m\u001b[38;5;124m(\u001b[39m\u001b[38;5;130;01m\\r\u001b[39;00m\u001b[38;5;124m|\u001b[39m\u001b[38;5;130;01m\\n\u001b[39;00m\u001b[38;5;124m)+\u001b[39m\u001b[38;5;124m\"\u001b[39m, \u001b[38;5;124m\"\u001b[39m\u001b[38;5;124m \u001b[39m\u001b[38;5;124m\"\u001b[39m, x))\n\u001b[0;32m      9\u001b[0m \u001b[38;5;66;03m# display as HTML to prevent data trunctation\u001b[39;00m\n",
      "\u001b[1;31mNameError\u001b[0m: name 'category_df' is not defined"
     ]
    }
   ],
   "source": [
    "top_title_category_count = pd.concat([books[\"title\"], category_df.sum(axis=1)], axis=1) \\\n",
    "    .rename(columns={0:\"n_category\"}) \\\n",
    "    .sort_values(\"n_category\", ascending=False) \\\n",
    "    .head(15) \\\n",
    "    .reset_index(drop=True)\n",
    "    \n",
    "top_title_category_count[\"title\"] = top_title_category_count[\"title\"].apply(lambda x: re.sub(\"(\\r|\\n)+\", \" \", x))\n",
    "\n",
    "# display as HTML to prevent data trunctation\n",
    "display(HTML(top_title_category_count.to_html()))"
   ]
  },
  {
   "cell_type": "markdown",
   "metadata": {},
   "source": [
    "## Language"
   ]
  },
  {
   "cell_type": "code",
   "execution_count": null,
   "metadata": {},
   "outputs": [],
   "source": [
    "# from languages import *\n",
    "# download_language_reference()"
   ]
  },
  {
   "cell_type": "code",
   "execution_count": null,
   "metadata": {},
   "outputs": [
    {
     "data": {
      "text/html": [
       "<div>\n",
       "<style scoped>\n",
       "    .dataframe tbody tr th:only-of-type {\n",
       "        vertical-align: middle;\n",
       "    }\n",
       "\n",
       "    .dataframe tbody tr th {\n",
       "        vertical-align: top;\n",
       "    }\n",
       "\n",
       "    .dataframe thead th {\n",
       "        text-align: right;\n",
       "    }\n",
       "</style>\n",
       "<table border=\"1\" class=\"dataframe\">\n",
       "  <thead>\n",
       "    <tr style=\"text-align: right;\">\n",
       "      <th></th>\n",
       "      <th>639-2[1]</th>\n",
       "      <th>639-1</th>\n",
       "      <th>Language name(s) from ISO 639-2[1]</th>\n",
       "    </tr>\n",
       "  </thead>\n",
       "  <tbody>\n",
       "    <tr>\n",
       "      <th>0</th>\n",
       "      <td>aar</td>\n",
       "      <td>aa</td>\n",
       "      <td>Afar</td>\n",
       "    </tr>\n",
       "    <tr>\n",
       "      <th>1</th>\n",
       "      <td>abk</td>\n",
       "      <td>ab</td>\n",
       "      <td>Abkhazian</td>\n",
       "    </tr>\n",
       "    <tr>\n",
       "      <th>2</th>\n",
       "      <td>ace</td>\n",
       "      <td>-</td>\n",
       "      <td>Achinese</td>\n",
       "    </tr>\n",
       "    <tr>\n",
       "      <th>3</th>\n",
       "      <td>ach</td>\n",
       "      <td>-</td>\n",
       "      <td>Acoli</td>\n",
       "    </tr>\n",
       "    <tr>\n",
       "      <th>4</th>\n",
       "      <td>ada</td>\n",
       "      <td>-</td>\n",
       "      <td>Adangme</td>\n",
       "    </tr>\n",
       "  </tbody>\n",
       "</table>\n",
       "</div>"
      ],
      "text/plain": [
       "  639-2[1] 639-1 Language name(s) from ISO 639-2[1]\n",
       "0      aar    aa                               Afar\n",
       "1      abk    ab                          Abkhazian\n",
       "2      ace     -                           Achinese\n",
       "3      ach     -                              Acoli\n",
       "4      ada     -                            Adangme"
      ]
     },
     "execution_count": 557,
     "metadata": {},
     "output_type": "execute_result"
    }
   ],
   "source": [
    "languages = pd.read_csv(\"./data/languages.csv\").fillna(\"-\").iloc[:, [0, 3, 4]]\n",
    "languages.head()"
   ]
  },
  {
   "cell_type": "code",
   "execution_count": null,
   "metadata": {},
   "outputs": [
    {
     "data": {
      "text/html": [
       "<div>\n",
       "<style scoped>\n",
       "    .dataframe tbody tr th:only-of-type {\n",
       "        vertical-align: middle;\n",
       "    }\n",
       "\n",
       "    .dataframe tbody tr th {\n",
       "        vertical-align: top;\n",
       "    }\n",
       "\n",
       "    .dataframe thead th {\n",
       "        text-align: right;\n",
       "    }\n",
       "</style>\n",
       "<table border=\"1\" class=\"dataframe\">\n",
       "  <thead>\n",
       "    <tr style=\"text-align: right;\">\n",
       "      <th></th>\n",
       "      <th>language</th>\n",
       "    </tr>\n",
       "  </thead>\n",
       "  <tbody>\n",
       "    <tr>\n",
       "      <th>en</th>\n",
       "      <td>English</td>\n",
       "    </tr>\n",
       "    <tr>\n",
       "      <th>la</th>\n",
       "      <td>Latin</td>\n",
       "    </tr>\n",
       "    <tr>\n",
       "      <th>es</th>\n",
       "      <td>Spanish; Castilian</td>\n",
       "    </tr>\n",
       "    <tr>\n",
       "      <th>de</th>\n",
       "      <td>German</td>\n",
       "    </tr>\n",
       "    <tr>\n",
       "      <th>fr</th>\n",
       "      <td>French</td>\n",
       "    </tr>\n",
       "  </tbody>\n",
       "</table>\n",
       "</div>"
      ],
      "text/plain": [
       "              language\n",
       "en             English\n",
       "la               Latin\n",
       "es  Spanish; Castilian\n",
       "de              German\n",
       "fr              French"
      ]
     },
     "execution_count": 558,
     "metadata": {},
     "output_type": "execute_result"
    }
   ],
   "source": [
    "lang_codes_ref = {}\n",
    "\n",
    "for code in books[\"lang_code\"].unique():\n",
    "    if len(code) == 2:\n",
    "        lang_codes_ref[code] = languages.loc[languages[\"639-1\"] == code, \"Language name(s) from ISO 639-2[1]\"].values\n",
    "    if len(code) == 3:\n",
    "        lang_codes_ref[code] = languages.loc[languages[\"639-2[1]\"] == code, \"Language name(s) from ISO 639-2[1]\"].values\n",
    "        \n",
    "lang_codes_ref = pd.DataFrame(lang_codes_ref.values(), index=lang_codes_ref.keys(), columns=[\"language\"])\n",
    "\n",
    "lang_codes_ref.loc[\"ia\", :] = \"Interlingua\"\n",
    "lang_codes_ref.loc[\"ro\", :] = \"Romanian; Moldovan\"\n",
    "lang_codes_ref.loc[\"rmr\", :] = \"Caló\"\n",
    "\n",
    "lang_codes_ref.head()"
   ]
  },
  {
   "cell_type": "code",
   "execution_count": null,
   "metadata": {},
   "outputs": [],
   "source": [
    "books = books.join(lang_codes_ref, on=\"lang_code\")"
   ]
  },
  {
   "cell_type": "code",
   "execution_count": null,
   "metadata": {},
   "outputs": [
    {
     "data": {
      "image/png": "[encoded data removed]",
      "text/plain": [
       "<Figure size 640x480 with 1 Axes>"
      ]
     },
     "metadata": {},
     "output_type": "display_data"
    }
   ],
   "source": [
    "language_counts = books[\"language\"].value_counts().head(10)\n",
    "\n",
    "sns.barplot(y=language_counts.index, x=language_counts.values)\n",
    "plt.title(\"Language Distribution\")\n",
    "plt.show()"
   ]
  },
  {
   "cell_type": "markdown",
   "metadata": {},
   "source": [
    "# Downloads"
   ]
  },
  {
   "cell_type": "code",
   "execution_count": null,
   "metadata": {},
   "outputs": [
    {
     "data": {
      "text/html": [
       "<table border=\"1\" class=\"dataframe\">\n",
       "  <thead>\n",
       "    <tr style=\"text-align: right;\">\n",
       "      <th></th>\n",
       "      <th>title</th>\n",
       "      <th>authors</th>\n",
       "      <th>downloads</th>\n",
       "    </tr>\n",
       "  </thead>\n",
       "  <tbody>\n",
       "    <tr>\n",
       "      <th>0</th>\n",
       "      <td>A Christmas Carol in Prose; Being a Ghost Story of Christmas</td>\n",
       "      <td>Dickens, Charles</td>\n",
       "      <td>73366</td>\n",
       "    </tr>\n",
       "    <tr>\n",
       "      <th>1</th>\n",
       "      <td>Frankenstein; Or, The Modern Prometheus</td>\n",
       "      <td>Shelley, Mary Wollstonecraft</td>\n",
       "      <td>60961</td>\n",
       "    </tr>\n",
       "    <tr>\n",
       "      <th>2</th>\n",
       "      <td>Moby Dick; Or, The Whale</td>\n",
       "      <td>Melville, Herman</td>\n",
       "      <td>59536</td>\n",
       "    </tr>\n",
       "    <tr>\n",
       "      <th>3</th>\n",
       "      <td>Romeo and Juliet</td>\n",
       "      <td>Shakespeare, William</td>\n",
       "      <td>51927</td>\n",
       "    </tr>\n",
       "    <tr>\n",
       "      <th>4</th>\n",
       "      <td>Pride and Prejudice</td>\n",
       "      <td>Austen, Jane</td>\n",
       "      <td>50914</td>\n",
       "    </tr>\n",
       "    <tr>\n",
       "      <th>5</th>\n",
       "      <td>Middlemarch</td>\n",
       "      <td>Eliot, George</td>\n",
       "      <td>47131</td>\n",
       "    </tr>\n",
       "    <tr>\n",
       "      <th>6</th>\n",
       "      <td>A Room with a View</td>\n",
       "      <td>Forster, E. M. (Edward Morgan)</td>\n",
       "      <td>46375</td>\n",
       "    </tr>\n",
       "    <tr>\n",
       "      <th>7</th>\n",
       "      <td>The Complete Works of William Shakespeare</td>\n",
       "      <td>Shakespeare, William</td>\n",
       "      <td>44424</td>\n",
       "    </tr>\n",
       "    <tr>\n",
       "      <th>8</th>\n",
       "      <td>Little Women; Or, Meg, Jo, Beth, and Amy</td>\n",
       "      <td>Alcott, Louisa May</td>\n",
       "      <td>43524</td>\n",
       "    </tr>\n",
       "    <tr>\n",
       "      <th>9</th>\n",
       "      <td>The Blue Castle: a novel</td>\n",
       "      <td>Montgomery, L. M. (Lucy Maud)</td>\n",
       "      <td>40659</td>\n",
       "    </tr>\n",
       "    <tr>\n",
       "      <th>10</th>\n",
       "      <td>Cranford</td>\n",
       "      <td>Gaskell, Elizabeth Cleghorn</td>\n",
       "      <td>37949</td>\n",
       "    </tr>\n",
       "    <tr>\n",
       "      <th>11</th>\n",
       "      <td>The Adventures of Ferdinand Count Fathom — Complete</td>\n",
       "      <td>Smollett, T. (Tobias)</td>\n",
       "      <td>37677</td>\n",
       "    </tr>\n",
       "    <tr>\n",
       "      <th>12</th>\n",
       "      <td>The Expedition of Humphry Clinker</td>\n",
       "      <td>Smollett, T. (Tobias)</td>\n",
       "      <td>37134</td>\n",
       "    </tr>\n",
       "    <tr>\n",
       "      <th>13</th>\n",
       "      <td>The Adventures of Roderick Random</td>\n",
       "      <td>Smollett, T. (Tobias)</td>\n",
       "      <td>36642</td>\n",
       "    </tr>\n",
       "    <tr>\n",
       "      <th>14</th>\n",
       "      <td>History of Tom Jones, a Foundling</td>\n",
       "      <td>Fielding, Henry</td>\n",
       "      <td>36265</td>\n",
       "    </tr>\n",
       "  </tbody>\n",
       "</table>"
      ],
      "text/plain": [
       "<IPython.core.display.HTML object>"
      ]
     },
     "metadata": {},
     "output_type": "display_data"
    }
   ],
   "source": [
    "top_downloaded_books = books[[\"title\", \"authors\", \"downloads\"]] \\\n",
    "    .sort_values(\"downloads\", ascending=False) \\\n",
    "    .head(15) \\\n",
    "    .reset_index(drop=True)\n",
    "\n",
    "# display as HTML to prevent data trunctation\n",
    "display(HTML(top_downloaded_books.to_html()))"
   ]
  },
  {
   "cell_type": "code",
   "execution_count": null,
   "metadata": {},
   "outputs": [
    {
     "data": {
      "text/html": [
       "<table border=\"1\" class=\"dataframe\">\n",
       "  <thead>\n",
       "    <tr style=\"text-align: right;\">\n",
       "      <th></th>\n",
       "      <th>title</th>\n",
       "      <th>authors</th>\n",
       "      <th>language</th>\n",
       "      <th>downloads</th>\n",
       "    </tr>\n",
       "  </thead>\n",
       "  <tbody>\n",
       "    <tr>\n",
       "      <th>0</th>\n",
       "      <td>Don Quijote</td>\n",
       "      <td>Cervantes Saavedra, Miguel de</td>\n",
       "      <td>Spanish; Castilian</td>\n",
       "      <td>8693</td>\n",
       "    </tr>\n",
       "    <tr>\n",
       "      <th>1</th>\n",
       "      <td>Noli Me Tangere</td>\n",
       "      <td>Rizal, José</td>\n",
       "      <td>Tagalog</td>\n",
       "      <td>6074</td>\n",
       "    </tr>\n",
       "    <tr>\n",
       "      <th>2</th>\n",
       "      <td>Josefine Mutzenbacher\\noder Die Geschichte einer Wienerischen Dirne von ihr selbst erzählt</td>\n",
       "      <td>Salten, Felix</td>\n",
       "      <td>German</td>\n",
       "      <td>5831</td>\n",
       "    </tr>\n",
       "    <tr>\n",
       "      <th>3</th>\n",
       "      <td>Tractatus Logico-Philosophicus</td>\n",
       "      <td>Wittgenstein, Ludwig</td>\n",
       "      <td>German</td>\n",
       "      <td>4922</td>\n",
       "    </tr>\n",
       "    <tr>\n",
       "      <th>4</th>\n",
       "      <td>Ang \"Filibusterismo\" (Karugtóng ng Noli Me Tangere)</td>\n",
       "      <td>Rizal, José</td>\n",
       "      <td>Tagalog</td>\n",
       "      <td>4753</td>\n",
       "    </tr>\n",
       "    <tr>\n",
       "      <th>5</th>\n",
       "      <td>Die Verwandlung</td>\n",
       "      <td>Kafka, Franz</td>\n",
       "      <td>German</td>\n",
       "      <td>3862</td>\n",
       "    </tr>\n",
       "    <tr>\n",
       "      <th>6</th>\n",
       "      <td>Novo dicionário da língua portuguesa</td>\n",
       "      <td>Figueiredo, Cândido de</td>\n",
       "      <td>Portuguese</td>\n",
       "      <td>3500</td>\n",
       "    </tr>\n",
       "    <tr>\n",
       "      <th>7</th>\n",
       "      <td>Chaucer's Works, Volume 4 — The Canterbury Tales</td>\n",
       "      <td>Chaucer, Geoffrey</td>\n",
       "      <td>English, Middle (1100–1500)</td>\n",
       "      <td>3223</td>\n",
       "    </tr>\n",
       "    <tr>\n",
       "      <th>8</th>\n",
       "      <td>Der Struwwelpeter\\noder lustige Geschichten und drollige Bilder</td>\n",
       "      <td>Hoffmann, Heinrich</td>\n",
       "      <td>German</td>\n",
       "      <td>2305</td>\n",
       "    </tr>\n",
       "    <tr>\n",
       "      <th>9</th>\n",
       "      <td>1001 задача для умственного счета</td>\n",
       "      <td>Rachinskii, Sergei Aleksandrovich</td>\n",
       "      <td>Russian</td>\n",
       "      <td>2170</td>\n",
       "    </tr>\n",
       "    <tr>\n",
       "      <th>10</th>\n",
       "      <td>Mi Ultimo Adiós</td>\n",
       "      <td>Rizal, José</td>\n",
       "      <td>Spanish; Castilian</td>\n",
       "      <td>2108</td>\n",
       "    </tr>\n",
       "    <tr>\n",
       "      <th>11</th>\n",
       "      <td>Du côté de chez Swann</td>\n",
       "      <td>Proust, Marcel</td>\n",
       "      <td>French</td>\n",
       "      <td>2099</td>\n",
       "    </tr>\n",
       "    <tr>\n",
       "      <th>12</th>\n",
       "      <td>El paraíso perdido</td>\n",
       "      <td>Milton, John</td>\n",
       "      <td>Spanish; Castilian</td>\n",
       "      <td>2080</td>\n",
       "    </tr>\n",
       "    <tr>\n",
       "      <th>13</th>\n",
       "      <td>La Odisea</td>\n",
       "      <td>Homer</td>\n",
       "      <td>Spanish; Castilian</td>\n",
       "      <td>1877</td>\n",
       "    </tr>\n",
       "    <tr>\n",
       "      <th>14</th>\n",
       "      <td>Ang Liham ni Dr. Jose Rizal sa mga Kadalagahan sa Malolos, Bulakan</td>\n",
       "      <td>Rizal, José</td>\n",
       "      <td>Tagalog</td>\n",
       "      <td>1848</td>\n",
       "    </tr>\n",
       "  </tbody>\n",
       "</table>"
      ],
      "text/plain": [
       "<IPython.core.display.HTML object>"
      ]
     },
     "metadata": {},
     "output_type": "display_data"
    }
   ],
   "source": [
    "# the most downloaded non-English books\n",
    "top_downloaded_books = books[[\"title\", \"authors\", \"language\", \"downloads\"]] \\\n",
    "    .loc[books[\"language\"] != \"English\"] \\\n",
    "    .sort_values(\"downloads\", ascending=False) \\\n",
    "    .head(15) \\\n",
    "    .reset_index(drop=True)\n",
    "\n",
    "# display as HTML to prevent data trunctation\n",
    "display(HTML(top_downloaded_books.to_html()))"
   ]
  },
  {
   "cell_type": "code",
   "execution_count": null,
   "metadata": {},
   "outputs": [],
   "source": [
    "import pandas as pd\n",
    "category_download_counts = []\n",
    "\n",
    "books_with_category = books.join(category_df)\n",
    "\n",
    "for category in bookshelf_categories:\n",
    "    downloads = books[\"downloads\"].loc[books_with_category[category]].sum()\n",
    "    n_items = books_with_category[category].sum()\n",
    "    \n",
    "    row = {}\n",
    "    row[\"category\"] = category\n",
    "    row[\"downloads\"] = downloads\n",
    "    row[\"n_items\"] = n_items\n",
    "    row[\"downloads_per_items\"] = downloads / n_items\n",
    "    \n",
    "    category_download_counts.append(row)\n",
    "\n",
    "category_download_counts = pd.DataFrame(category_download_counts)"
   ]
  },
  {
   "cell_type": "code",
   "execution_count": null,
   "metadata": {},
   "outputs": [
    {
     "data": {
      "text/html": [
       "<div>\n",
       "<style scoped>\n",
       "    .dataframe tbody tr th:only-of-type {\n",
       "        vertical-align: middle;\n",
       "    }\n",
       "\n",
       "    .dataframe tbody tr th {\n",
       "        vertical-align: top;\n",
       "    }\n",
       "\n",
       "    .dataframe thead th {\n",
       "        text-align: right;\n",
       "    }\n",
       "</style>\n",
       "<table border=\"1\" class=\"dataframe\">\n",
       "  <thead>\n",
       "    <tr style=\"text-align: right;\">\n",
       "      <th></th>\n",
       "      <th>category</th>\n",
       "      <th>downloads</th>\n",
       "      <th>n_items</th>\n",
       "      <th>downloads_per_items</th>\n",
       "    </tr>\n",
       "  </thead>\n",
       "  <tbody>\n",
       "    <tr>\n",
       "      <th>0</th>\n",
       "      <td>Gothic Fiction</td>\n",
       "      <td>151156</td>\n",
       "      <td>30</td>\n",
       "      <td>5038.533333</td>\n",
       "    </tr>\n",
       "    <tr>\n",
       "      <th>1</th>\n",
       "      <td>Banned Books List from the American Library As...</td>\n",
       "      <td>53142</td>\n",
       "      <td>15</td>\n",
       "      <td>3542.800000</td>\n",
       "    </tr>\n",
       "    <tr>\n",
       "      <th>2</th>\n",
       "      <td>Best Books Ever Listings</td>\n",
       "      <td>613993</td>\n",
       "      <td>206</td>\n",
       "      <td>2980.548544</td>\n",
       "    </tr>\n",
       "    <tr>\n",
       "      <th>3</th>\n",
       "      <td>Precursors of Science Fiction</td>\n",
       "      <td>95234</td>\n",
       "      <td>36</td>\n",
       "      <td>2645.388889</td>\n",
       "    </tr>\n",
       "    <tr>\n",
       "      <th>4</th>\n",
       "      <td>Movie Books</td>\n",
       "      <td>311640</td>\n",
       "      <td>119</td>\n",
       "      <td>2618.823529</td>\n",
       "    </tr>\n",
       "    <tr>\n",
       "      <th>5</th>\n",
       "      <td>Mystery Fiction</td>\n",
       "      <td>32947</td>\n",
       "      <td>13</td>\n",
       "      <td>2534.384615</td>\n",
       "    </tr>\n",
       "    <tr>\n",
       "      <th>6</th>\n",
       "      <td>Horror</td>\n",
       "      <td>95569</td>\n",
       "      <td>49</td>\n",
       "      <td>1950.387755</td>\n",
       "    </tr>\n",
       "    <tr>\n",
       "      <th>7</th>\n",
       "      <td>American Revolutionary War</td>\n",
       "      <td>9506</td>\n",
       "      <td>5</td>\n",
       "      <td>1901.200000</td>\n",
       "    </tr>\n",
       "    <tr>\n",
       "      <th>8</th>\n",
       "      <td>Erotic Fiction</td>\n",
       "      <td>26313</td>\n",
       "      <td>16</td>\n",
       "      <td>1644.562500</td>\n",
       "    </tr>\n",
       "    <tr>\n",
       "      <th>9</th>\n",
       "      <td>Harvard Classics</td>\n",
       "      <td>282820</td>\n",
       "      <td>185</td>\n",
       "      <td>1528.756757</td>\n",
       "    </tr>\n",
       "    <tr>\n",
       "      <th>10</th>\n",
       "      <td>Science Fiction by Women</td>\n",
       "      <td>83747</td>\n",
       "      <td>55</td>\n",
       "      <td>1522.672727</td>\n",
       "    </tr>\n",
       "    <tr>\n",
       "      <th>11</th>\n",
       "      <td>Italy</td>\n",
       "      <td>67803</td>\n",
       "      <td>45</td>\n",
       "      <td>1506.733333</td>\n",
       "    </tr>\n",
       "    <tr>\n",
       "      <th>12</th>\n",
       "      <td>Banned Books from Anne Haight's list</td>\n",
       "      <td>259737</td>\n",
       "      <td>174</td>\n",
       "      <td>1492.741379</td>\n",
       "    </tr>\n",
       "    <tr>\n",
       "      <th>13</th>\n",
       "      <td>Politics</td>\n",
       "      <td>41907</td>\n",
       "      <td>29</td>\n",
       "      <td>1445.068966</td>\n",
       "    </tr>\n",
       "    <tr>\n",
       "      <th>14</th>\n",
       "      <td>Plays</td>\n",
       "      <td>87252</td>\n",
       "      <td>63</td>\n",
       "      <td>1384.952381</td>\n",
       "    </tr>\n",
       "  </tbody>\n",
       "</table>\n",
       "</div>"
      ],
      "text/plain": [
       "                                             category  downloads  n_items  \\\n",
       "0                                      Gothic Fiction     151156       30   \n",
       "1   Banned Books List from the American Library As...      53142       15   \n",
       "2                            Best Books Ever Listings     613993      206   \n",
       "3                       Precursors of Science Fiction      95234       36   \n",
       "4                                         Movie Books     311640      119   \n",
       "5                                     Mystery Fiction      32947       13   \n",
       "6                                              Horror      95569       49   \n",
       "7                          American Revolutionary War       9506        5   \n",
       "8                                      Erotic Fiction      26313       16   \n",
       "9                                    Harvard Classics     282820      185   \n",
       "10                           Science Fiction by Women      83747       55   \n",
       "11                                              Italy      67803       45   \n",
       "12               Banned Books from Anne Haight's list     259737      174   \n",
       "13                                           Politics      41907       29   \n",
       "14                                              Plays      87252       63   \n",
       "\n",
       "    downloads_per_items  \n",
       "0           5038.533333  \n",
       "1           3542.800000  \n",
       "2           2980.548544  \n",
       "3           2645.388889  \n",
       "4           2618.823529  \n",
       "5           2534.384615  \n",
       "6           1950.387755  \n",
       "7           1901.200000  \n",
       "8           1644.562500  \n",
       "9           1528.756757  \n",
       "10          1522.672727  \n",
       "11          1506.733333  \n",
       "12          1492.741379  \n",
       "13          1445.068966  \n",
       "14          1384.952381  "
      ]
     },
     "execution_count": 567,
     "metadata": {},
     "output_type": "execute_result"
    }
   ],
   "source": [
    "category_download_counts \\\n",
    "    .sort_values(\"downloads_per_items\", ascending=False) \\\n",
    "    .head(15) \\\n",
    "    .reset_index(drop=True)"
   ]
  },
  {
   "cell_type": "code",
   "execution_count": null,
   "metadata": {},
   "outputs": [
    {
     "data": {
      "text/html": [
       "<div>\n",
       "<style scoped>\n",
       "    .dataframe tbody tr th:only-of-type {\n",
       "        vertical-align: middle;\n",
       "    }\n",
       "\n",
       "    .dataframe tbody tr th {\n",
       "        vertical-align: top;\n",
       "    }\n",
       "\n",
       "    .dataframe thead th {\n",
       "        text-align: right;\n",
       "    }\n",
       "</style>\n",
       "<table border=\"1\" class=\"dataframe\">\n",
       "  <thead>\n",
       "    <tr style=\"text-align: right;\">\n",
       "      <th></th>\n",
       "      <th>category</th>\n",
       "      <th>downloads</th>\n",
       "      <th>n_items</th>\n",
       "      <th>downloads_per_items</th>\n",
       "    </tr>\n",
       "  </thead>\n",
       "  <tbody>\n",
       "    <tr>\n",
       "      <th>0</th>\n",
       "      <td>Best Books Ever Listings</td>\n",
       "      <td>613993</td>\n",
       "      <td>206</td>\n",
       "      <td>2980.548544</td>\n",
       "    </tr>\n",
       "    <tr>\n",
       "      <th>1</th>\n",
       "      <td>Movie Books</td>\n",
       "      <td>311640</td>\n",
       "      <td>119</td>\n",
       "      <td>2618.823529</td>\n",
       "    </tr>\n",
       "    <tr>\n",
       "      <th>2</th>\n",
       "      <td>Science</td>\n",
       "      <td>285752</td>\n",
       "      <td>1589</td>\n",
       "      <td>179.831340</td>\n",
       "    </tr>\n",
       "    <tr>\n",
       "      <th>3</th>\n",
       "      <td>Harvard Classics</td>\n",
       "      <td>282820</td>\n",
       "      <td>185</td>\n",
       "      <td>1528.756757</td>\n",
       "    </tr>\n",
       "    <tr>\n",
       "      <th>4</th>\n",
       "      <td>Science Fiction</td>\n",
       "      <td>273235</td>\n",
       "      <td>1376</td>\n",
       "      <td>198.571948</td>\n",
       "    </tr>\n",
       "    <tr>\n",
       "      <th>5</th>\n",
       "      <td>Children's Literature</td>\n",
       "      <td>264586</td>\n",
       "      <td>317</td>\n",
       "      <td>834.656151</td>\n",
       "    </tr>\n",
       "    <tr>\n",
       "      <th>6</th>\n",
       "      <td>Banned Books from Anne Haight's list</td>\n",
       "      <td>259737</td>\n",
       "      <td>174</td>\n",
       "      <td>1492.741379</td>\n",
       "    </tr>\n",
       "    <tr>\n",
       "      <th>7</th>\n",
       "      <td>Historical Fiction</td>\n",
       "      <td>244590</td>\n",
       "      <td>384</td>\n",
       "      <td>636.953125</td>\n",
       "    </tr>\n",
       "    <tr>\n",
       "      <th>8</th>\n",
       "      <td>Gothic Fiction</td>\n",
       "      <td>151156</td>\n",
       "      <td>30</td>\n",
       "      <td>5038.533333</td>\n",
       "    </tr>\n",
       "    <tr>\n",
       "      <th>9</th>\n",
       "      <td>Christmas</td>\n",
       "      <td>131795</td>\n",
       "      <td>151</td>\n",
       "      <td>872.814570</td>\n",
       "    </tr>\n",
       "    <tr>\n",
       "      <th>10</th>\n",
       "      <td>Philosophy</td>\n",
       "      <td>107992</td>\n",
       "      <td>114</td>\n",
       "      <td>947.298246</td>\n",
       "    </tr>\n",
       "    <tr>\n",
       "      <th>11</th>\n",
       "      <td>Horror</td>\n",
       "      <td>95569</td>\n",
       "      <td>49</td>\n",
       "      <td>1950.387755</td>\n",
       "    </tr>\n",
       "    <tr>\n",
       "      <th>12</th>\n",
       "      <td>Precursors of Science Fiction</td>\n",
       "      <td>95234</td>\n",
       "      <td>36</td>\n",
       "      <td>2645.388889</td>\n",
       "    </tr>\n",
       "    <tr>\n",
       "      <th>13</th>\n",
       "      <td>Plays</td>\n",
       "      <td>87252</td>\n",
       "      <td>63</td>\n",
       "      <td>1384.952381</td>\n",
       "    </tr>\n",
       "    <tr>\n",
       "      <th>14</th>\n",
       "      <td>Bestsellers, American, 1895-1923</td>\n",
       "      <td>86477</td>\n",
       "      <td>426</td>\n",
       "      <td>202.997653</td>\n",
       "    </tr>\n",
       "  </tbody>\n",
       "</table>\n",
       "</div>"
      ],
      "text/plain": [
       "                                category  downloads  n_items  \\\n",
       "0               Best Books Ever Listings     613993      206   \n",
       "1                            Movie Books     311640      119   \n",
       "2                                Science     285752     1589   \n",
       "3                       Harvard Classics     282820      185   \n",
       "4                        Science Fiction     273235     1376   \n",
       "5                  Children's Literature     264586      317   \n",
       "6   Banned Books from Anne Haight's list     259737      174   \n",
       "7                     Historical Fiction     244590      384   \n",
       "8                         Gothic Fiction     151156       30   \n",
       "9                              Christmas     131795      151   \n",
       "10                            Philosophy     107992      114   \n",
       "11                                Horror      95569       49   \n",
       "12         Precursors of Science Fiction      95234       36   \n",
       "13                                 Plays      87252       63   \n",
       "14      Bestsellers, American, 1895-1923      86477      426   \n",
       "\n",
       "    downloads_per_items  \n",
       "0           2980.548544  \n",
       "1           2618.823529  \n",
       "2            179.831340  \n",
       "3           1528.756757  \n",
       "4            198.571948  \n",
       "5            834.656151  \n",
       "6           1492.741379  \n",
       "7            636.953125  \n",
       "8           5038.533333  \n",
       "9            872.814570  \n",
       "10           947.298246  \n",
       "11          1950.387755  \n",
       "12          2645.388889  \n",
       "13          1384.952381  \n",
       "14           202.997653  "
      ]
     },
     "execution_count": 568,
     "metadata": {},
     "output_type": "execute_result"
    }
   ],
   "source": [
    "category_download_counts \\\n",
    "    .sort_values(\"downloads\", ascending=False) \\\n",
    "    .head(15) \\\n",
    "    .reset_index(drop=True)"
   ]
  },
  {
   "cell_type": "markdown",
   "metadata": {},
   "source": [
    "# Release Date"
   ]
  },
  {
   "cell_type": "code",
   "execution_count": null,
   "metadata": {},
   "outputs": [
    {
     "data": {
      "text/plain": [
       "<AxesSubplot: >"
      ]
     },
     "execution_count": 584,
     "metadata": {},
     "output_type": "execute_result"
    },
    {
     "data": {
      "image/png": "[encoded data removed]",
      "text/plain": [
       "<Figure size 640x480 with 1 Axes>"
      ]
     },
     "metadata": {},
     "output_type": "display_data"
    }
   ],
   "source": [
    "year_counts = books[\"issued\"].map(lambda x: x.year).value_counts().sort_index()\n",
    "\n",
    "sns.lineplot(x=year_counts.index, y=year_counts.values)"
   ]
  }
 ],
 "metadata": {
  "kernelspec": {
   "display_name": "main",
   "language": "python",
   "name": "python3"
  },
  "language_info": {
   "codemirror_mode": {
    "name": "ipython",
    "version": 3
   },
   "file_extension": ".py",
   "mimetype": "text/x-python",
   "name": "python",
   "nbconvert_exporter": "python",
   "pygments_lexer": "ipython3",
   "version": "3.9.16"
  }
 },
 "nbformat": 4,
 "nbformat_minor": 2
}
